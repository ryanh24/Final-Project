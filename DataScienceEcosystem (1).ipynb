{
 "cells": [
  {
   "cell_type": "markdown",
   "id": "72093611-fd4a-4c06-a2e5-adbeaef39b54",
   "metadata": {},
   "source": [
    "# Data Science Tools and Ecosystem"
   ]
  },
  {
   "cell_type": "markdown",
   "id": "3c18860b-5ea9-4f07-a587-1adca5a90f2f",
   "metadata": {},
   "source": [
    "In this notebook, Data Science Tools and Ecosystem are summarized"
   ]
  },
  {
   "cell_type": "markdown",
   "id": "ada5830e-59e5-4886-b926-13fb5b210ab2",
   "metadata": {},
   "source": [
    "Some of the popular languages that Data Scientists use are:\n",
    "1. Python\n",
    "2. R\n",
    "3. Java\n",
    "4. C++\n",
    "5. Julia"
   ]
  },
  {
   "cell_type": "markdown",
   "id": "1aec5bf2-51f8-4cc0-bb0e-0846edfe9683",
   "metadata": {},
   "source": [
    "Some of the commonly used libraries used by Data Scientists include:\n",
    "1. Numpy\n",
    "3. Pandas\n",
    "4. Sci-kit\n",
    "5. Tensorflow"
   ]
  },
  {
   "cell_type": "markdown",
   "id": "65c133fd-09b8-4feb-b1bf-19bb8008fb9f",
   "metadata": {},
   "source": [
    "|Data Science Tools|\n",
    "|-----|\n",
    "|Jupyter Notebooks|\n",
    "|RStudio|\n",
    "|Spyder|"
   ]
  },
  {
   "cell_type": "markdown",
   "id": "f923d5bb-8287-431b-89d7-98970c24c21f",
   "metadata": {},
   "source": [
    "### Below are a few examples of evaluating arithmetic expressions in Python"
   ]
  },
  {
   "cell_type": "code",
   "execution_count": 2,
   "id": "eb26bee5-3216-432b-90ff-8e604b5ec259",
   "metadata": {
    "tags": []
   },
   "outputs": [
    {
     "data": {
      "text/plain": [
       "17"
      ]
     },
     "execution_count": 2,
     "metadata": {},
     "output_type": "execute_result"
    }
   ],
   "source": [
    "# This is a simple arithmetic \n",
    "# expression to multiply then add integers\n",
    "(3*4)+5"
   ]
  },
  {
   "cell_type": "code",
   "execution_count": 3,
   "id": "5c69c0a7-cea2-4573-a2ab-eba805123e82",
   "metadata": {
    "tags": []
   },
   "outputs": [
    {
     "data": {
      "text/plain": [
       "3.3333333333333335"
      ]
     },
     "execution_count": 3,
     "metadata": {},
     "output_type": "execute_result"
    }
   ],
   "source": [
    "#This will convert 200 minutes into hours\n",
    "# by dividing by 60\n",
    "\n",
    "200/60"
   ]
  },
  {
   "cell_type": "markdown",
   "id": "b013a5c6-9f3c-46b0-b33c-d3ba4bf3b75e",
   "metadata": {},
   "source": [
    "**Objectives**"
   ]
  },
  {
   "cell_type": "markdown",
   "id": "41fe841f-5a68-4520-9856-4ee64335a514",
   "metadata": {
    "tags": []
   },
   "source": [
    "- List popular languages for DS\n",
    "- List popular libraries for DS\n",
    "- List some tools for DS\n",
    "- Show how Python is used for arithmetic"
   ]
  },
  {
   "cell_type": "markdown",
   "id": "c921a83f-650e-4124-ae1c-01826ae696f9",
   "metadata": {},
   "source": [
    "## Author\n",
    "Ryan Har"
   ]
  },
  {
   "cell_type": "code",
   "execution_count": null,
   "id": "9035ebc9-4bb8-4b2d-b9ea-34a37f3dd827",
   "metadata": {},
   "outputs": [],
   "source": []
  }
 ],
 "metadata": {
  "kernelspec": {
   "display_name": "Python",
   "language": "python",
   "name": "conda-env-python-py"
  },
  "language_info": {
   "codemirror_mode": {
    "name": "ipython",
    "version": 3
   },
   "file_extension": ".py",
   "mimetype": "text/x-python",
   "name": "python",
   "nbconvert_exporter": "python",
   "pygments_lexer": "ipython3",
   "version": "3.7.12"
  }
 },
 "nbformat": 4,
 "nbformat_minor": 5
}
